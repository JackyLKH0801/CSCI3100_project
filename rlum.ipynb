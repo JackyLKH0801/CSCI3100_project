{
 "cells": [
  {
   "cell_type": "markdown",
   "id": "52f74915",
   "metadata": {},
   "source": [
    "---\n",
    "title: \"CSCI3100: Software Engineering\"\n",
    "subtitle: \"Release Notes and User manual for Poster\"\n",
    "author: \"Au Yeung Sai Hui, Lui Ka Ho, Cheng Sui Kwong\"\n",
    "date: \"9 May 2025\"\n",
    "date-format: long\n",
    "format:\n",
    "  pdf:\n",
    "    number-sections: true\n",
    "    colorlinks: true\n",
    "    include-in-header: \n",
    "      text: |\n",
    "        \\usepackage{fancyhdr}\n",
    "        \\pagestyle{fancy}\n",
    "execute:\n",
    "  echo: true\n",
    "  warning: true\n",
    "  output: true\n",
    "---\n"
   ]
  },
  {
   "cell_type": "markdown",
   "id": "69f6e329",
   "metadata": {},
   "source": [
    "## Release Notes for POSTer"
   ]
  },
  {
   "cell_type": "markdown",
   "id": "5e4d73ae",
   "metadata": {},
   "source": [
    "|Version| Date| Comments|\n",
    "|-------|---------|------|\n",
    "|1.0    |  9 May 2025 | Relase| "
   ]
  },
  {
   "cell_type": "markdown",
   "id": "ecdedb73",
   "metadata": {},
   "source": [
    "### Whats new in this version:\n",
    "- Customizable Profile\n",
    "- Posting text\n",
    "- User following\n",
    "- Post reaction\n",
    "- Account creation and Login System"
   ]
  },
  {
   "cell_type": "markdown",
   "id": "ef88d6a8",
   "metadata": {},
   "source": [
    "## User Manual for POSTer\n",
    "### Part 1: All about Accounts and Profiles\n",
    "#### How to create an account:\n",
    "1. Click on the \"Register\" button on the Navigation bar.\n",
    "2. Fill in Your Username and Password.\n",
    "3. Reconfirm your password by typing it again.\n",
    "4. Click on the \"Register\" button to create your account.\n",
    "5. You will be redirected to the login page.\n",
    "\n",
    "#### How to Login:\n",
    "1. Click on the \"Login\" button on the Navigation bar.\n",
    "2. Fill in Your Username and Password.\n",
    "3. Click on the \"Login\" button to log in to your account.\n",
    "\n",
    "#### How to Logout:\n",
    "1. Click on the \"Logout\" button on the Navigation bar.\n",
    "2. Click on confirm to log out.\n",
    "\n",
    "#### How to view your profile:\n",
    "1. Click on the \"Profile\" button on the Navigation bar.\n",
    "2. You will be redirected to your profile page.\n",
    "\n",
    "#### How to edit your profile:\n",
    "1. Click on the \"Edit\" button on your profile page.\n",
    "2. Fill in your new information.\n",
    "3. Click on the \"Save\" button to save your changes.\n",
    "\n",
    "#### How to view other users' profiles:\n",
    "1. Click on the users' names or handle on their posts.\n",
    "2. You will be redirected to their profile page.\n",
    "\n",
    "#### How to follow a user:\n",
    "1. Click on the \"Follow\" button on their profile page.\n",
    "\n",
    "### Part 2: All about Posting\n",
    "\n",
    "#### How to create a post:\n",
    "1. Located on the home page is a text box. Type in your post.\n",
    "2. Click on the \"Post\" button to post your message.\n",
    "\n",
    "#### How to react to a post:\n",
    "1. Click on the \"Like\" button to like a post.\n",
    "2. Click on the \"UnLike\" button to unlike a post.\n",
    "3. Click on the \"retweet\" button to repost a post.\n",
    "\n",
    "#### How to view a post:\n",
    "1. Click on the \"View\" button to view a post.\n"
   ]
  },
  {
   "cell_type": "markdown",
   "id": "44687013",
   "metadata": {},
   "source": []
  }
 ],
 "metadata": {
  "language_info": {
   "name": "python"
  }
 },
 "nbformat": 4,
 "nbformat_minor": 5
}
